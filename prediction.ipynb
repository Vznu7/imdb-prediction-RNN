{
 "cells": [
  {
   "cell_type": "code",
   "execution_count": 4,
   "id": "a5cff08f",
   "metadata": {},
   "outputs": [],
   "source": [
    "import numpy as np\n",
    "import tensorflow as tf\n",
    "from tensorflow.keras.datasets import imdb\n",
    "from tensorflow.keras.preprocessing import sequence\n",
    "from tensorflow.keras.models import Sequential,load_model\n",
    "from tensorflow.keras.layers import Embedding,SimpleRNN,Dense"
   ]
  },
  {
   "cell_type": "code",
   "execution_count": 5,
   "id": "9fe2a498",
   "metadata": {},
   "outputs": [],
   "source": [
    "word_index = imdb.get_word_index()\n",
    "reverse_word_index ={value:key for key, value in word_index.items()}"
   ]
  },
  {
   "cell_type": "code",
   "execution_count": 6,
   "id": "4209dae8",
   "metadata": {},
   "outputs": [
    {
     "name": "stderr",
     "output_type": "stream",
     "text": [
      "WARNING:absl:Compiled the loaded model, but the compiled metrics have yet to be built. `model.compile_metrics` will be empty until you train or evaluate the model.\n"
     ]
    },
    {
     "data": {
      "text/html": [
       "<pre style=\"white-space:pre;overflow-x:auto;line-height:normal;font-family:Menlo,'DejaVu Sans Mono',consolas,'Courier New',monospace\"><span style=\"font-weight: bold\">Model: \"sequential_4\"</span>\n",
       "</pre>\n"
      ],
      "text/plain": [
       "\u001b[1mModel: \"sequential_4\"\u001b[0m\n"
      ]
     },
     "metadata": {},
     "output_type": "display_data"
    },
    {
     "data": {
      "text/html": [
       "<pre style=\"white-space:pre;overflow-x:auto;line-height:normal;font-family:Menlo,'DejaVu Sans Mono',consolas,'Courier New',monospace\">┏━━━━━━━━━━━━━━━━━━━━━━━━━━━━━━━━━┳━━━━━━━━━━━━━━━━━━━━━━━━┳━━━━━━━━━━━━━━━┓\n",
       "┃<span style=\"font-weight: bold\"> Layer (type)                    </span>┃<span style=\"font-weight: bold\"> Output Shape           </span>┃<span style=\"font-weight: bold\">       Param # </span>┃\n",
       "┡━━━━━━━━━━━━━━━━━━━━━━━━━━━━━━━━━╇━━━━━━━━━━━━━━━━━━━━━━━━╇━━━━━━━━━━━━━━━┩\n",
       "│ embedding_4 (<span style=\"color: #0087ff; text-decoration-color: #0087ff\">Embedding</span>)         │ (<span style=\"color: #00d7ff; text-decoration-color: #00d7ff\">None</span>, <span style=\"color: #00af00; text-decoration-color: #00af00\">500</span>, <span style=\"color: #00af00; text-decoration-color: #00af00\">128</span>)       │     <span style=\"color: #00af00; text-decoration-color: #00af00\">1,280,000</span> │\n",
       "├─────────────────────────────────┼────────────────────────┼───────────────┤\n",
       "│ simple_rnn_4 (<span style=\"color: #0087ff; text-decoration-color: #0087ff\">SimpleRNN</span>)        │ (<span style=\"color: #00d7ff; text-decoration-color: #00d7ff\">None</span>, <span style=\"color: #00af00; text-decoration-color: #00af00\">128</span>)            │        <span style=\"color: #00af00; text-decoration-color: #00af00\">32,896</span> │\n",
       "├─────────────────────────────────┼────────────────────────┼───────────────┤\n",
       "│ dense_4 (<span style=\"color: #0087ff; text-decoration-color: #0087ff\">Dense</span>)                 │ (<span style=\"color: #00d7ff; text-decoration-color: #00d7ff\">None</span>, <span style=\"color: #00af00; text-decoration-color: #00af00\">1</span>)              │           <span style=\"color: #00af00; text-decoration-color: #00af00\">129</span> │\n",
       "└─────────────────────────────────┴────────────────────────┴───────────────┘\n",
       "</pre>\n"
      ],
      "text/plain": [
       "┏━━━━━━━━━━━━━━━━━━━━━━━━━━━━━━━━━┳━━━━━━━━━━━━━━━━━━━━━━━━┳━━━━━━━━━━━━━━━┓\n",
       "┃\u001b[1m \u001b[0m\u001b[1mLayer (type)                   \u001b[0m\u001b[1m \u001b[0m┃\u001b[1m \u001b[0m\u001b[1mOutput Shape          \u001b[0m\u001b[1m \u001b[0m┃\u001b[1m \u001b[0m\u001b[1m      Param #\u001b[0m\u001b[1m \u001b[0m┃\n",
       "┡━━━━━━━━━━━━━━━━━━━━━━━━━━━━━━━━━╇━━━━━━━━━━━━━━━━━━━━━━━━╇━━━━━━━━━━━━━━━┩\n",
       "│ embedding_4 (\u001b[38;5;33mEmbedding\u001b[0m)         │ (\u001b[38;5;45mNone\u001b[0m, \u001b[38;5;34m500\u001b[0m, \u001b[38;5;34m128\u001b[0m)       │     \u001b[38;5;34m1,280,000\u001b[0m │\n",
       "├─────────────────────────────────┼────────────────────────┼───────────────┤\n",
       "│ simple_rnn_4 (\u001b[38;5;33mSimpleRNN\u001b[0m)        │ (\u001b[38;5;45mNone\u001b[0m, \u001b[38;5;34m128\u001b[0m)            │        \u001b[38;5;34m32,896\u001b[0m │\n",
       "├─────────────────────────────────┼────────────────────────┼───────────────┤\n",
       "│ dense_4 (\u001b[38;5;33mDense\u001b[0m)                 │ (\u001b[38;5;45mNone\u001b[0m, \u001b[38;5;34m1\u001b[0m)              │           \u001b[38;5;34m129\u001b[0m │\n",
       "└─────────────────────────────────┴────────────────────────┴───────────────┘\n"
      ]
     },
     "metadata": {},
     "output_type": "display_data"
    },
    {
     "data": {
      "text/html": [
       "<pre style=\"white-space:pre;overflow-x:auto;line-height:normal;font-family:Menlo,'DejaVu Sans Mono',consolas,'Courier New',monospace\"><span style=\"font-weight: bold\"> Total params: </span><span style=\"color: #00af00; text-decoration-color: #00af00\">1,313,027</span> (5.01 MB)\n",
       "</pre>\n"
      ],
      "text/plain": [
       "\u001b[1m Total params: \u001b[0m\u001b[38;5;34m1,313,027\u001b[0m (5.01 MB)\n"
      ]
     },
     "metadata": {},
     "output_type": "display_data"
    },
    {
     "data": {
      "text/html": [
       "<pre style=\"white-space:pre;overflow-x:auto;line-height:normal;font-family:Menlo,'DejaVu Sans Mono',consolas,'Courier New',monospace\"><span style=\"font-weight: bold\"> Trainable params: </span><span style=\"color: #00af00; text-decoration-color: #00af00\">1,313,025</span> (5.01 MB)\n",
       "</pre>\n"
      ],
      "text/plain": [
       "\u001b[1m Trainable params: \u001b[0m\u001b[38;5;34m1,313,025\u001b[0m (5.01 MB)\n"
      ]
     },
     "metadata": {},
     "output_type": "display_data"
    },
    {
     "data": {
      "text/html": [
       "<pre style=\"white-space:pre;overflow-x:auto;line-height:normal;font-family:Menlo,'DejaVu Sans Mono',consolas,'Courier New',monospace\"><span style=\"font-weight: bold\"> Non-trainable params: </span><span style=\"color: #00af00; text-decoration-color: #00af00\">0</span> (0.00 B)\n",
       "</pre>\n"
      ],
      "text/plain": [
       "\u001b[1m Non-trainable params: \u001b[0m\u001b[38;5;34m0\u001b[0m (0.00 B)\n"
      ]
     },
     "metadata": {},
     "output_type": "display_data"
    },
    {
     "data": {
      "text/html": [
       "<pre style=\"white-space:pre;overflow-x:auto;line-height:normal;font-family:Menlo,'DejaVu Sans Mono',consolas,'Courier New',monospace\"><span style=\"font-weight: bold\"> Optimizer params: </span><span style=\"color: #00af00; text-decoration-color: #00af00\">2</span> (12.00 B)\n",
       "</pre>\n"
      ],
      "text/plain": [
       "\u001b[1m Optimizer params: \u001b[0m\u001b[38;5;34m2\u001b[0m (12.00 B)\n"
      ]
     },
     "metadata": {},
     "output_type": "display_data"
    }
   ],
   "source": [
    "model =load_model(\"simple_rnn_imdb.h5\")\n",
    "model.summary()"
   ]
  },
  {
   "cell_type": "code",
   "execution_count": 7,
   "id": "6dba5aa6",
   "metadata": {},
   "outputs": [
    {
     "data": {
      "text/plain": [
       "[array([[-0.22932066, -0.5580211 ,  0.57851046, ...,  0.56010365,\n",
       "          0.4990285 ,  0.50284785],\n",
       "        [-0.03910047, -0.01953329, -0.01676098, ...,  0.02000693,\n",
       "          0.03385754, -0.05592011],\n",
       "        [ 0.06545153,  0.0232886 , -0.0161493 , ..., -0.03517558,\n",
       "         -0.04770806, -0.07974451],\n",
       "        ...,\n",
       "        [-0.02872098, -0.05670859, -0.02594788, ...,  0.05281466,\n",
       "         -0.05086652,  0.02157016],\n",
       "        [-0.07058813, -0.05747542,  0.0217693 , ..., -0.01592945,\n",
       "         -0.00253059,  0.04651314],\n",
       "        [ 0.06989766,  0.06312303, -0.01352093, ...,  0.07615606,\n",
       "         -0.0263385 ,  0.04020243]], dtype=float32),\n",
       " array([[ 0.16700464,  0.12014172, -0.15526205, ..., -0.01110204,\n",
       "         -0.17477334, -0.00026448],\n",
       "        [-0.09118196, -0.03619834, -0.09668625, ...,  0.03624389,\n",
       "         -0.06424337,  0.13694061],\n",
       "        [-0.08564635,  0.07012296, -0.07550105, ...,  0.15673693,\n",
       "          0.06818107,  0.04627667],\n",
       "        ...,\n",
       "        [ 0.03491153,  0.09152955,  0.09806428, ...,  0.08039842,\n",
       "         -0.02035395,  0.00806936],\n",
       "        [-0.13162021, -0.12657332, -0.12877677, ...,  0.08538183,\n",
       "         -0.03573381,  0.06598303],\n",
       "        [-0.06552998,  0.02497552,  0.10089035, ..., -0.01449707,\n",
       "          0.0727861 ,  0.10238807]], dtype=float32),\n",
       " array([[-0.03063717, -0.03771955, -0.00960996, ...,  0.04883751,\n",
       "         -0.09694856,  0.00262112],\n",
       "        [ 0.07086074, -0.2202956 , -0.00493865, ..., -0.03755632,\n",
       "          0.1051422 , -0.10360765],\n",
       "        [-0.00929705,  0.09619845, -0.07408503, ..., -0.0132369 ,\n",
       "         -0.02496771,  0.22191001],\n",
       "        ...,\n",
       "        [ 0.02089763, -0.02388295, -0.08231862, ..., -0.13288367,\n",
       "          0.03061057,  0.08728512],\n",
       "        [-0.07916316,  0.01856102,  0.06118023, ...,  0.05029139,\n",
       "          0.08019783,  0.05470762],\n",
       "        [-0.1089525 , -0.03672428,  0.0110718 , ...,  0.0025229 ,\n",
       "          0.05998005, -0.09544448]], dtype=float32),\n",
       " array([-0.01004167,  0.01861697,  0.00731161, -0.00083313, -0.02446323,\n",
       "        -0.03237645, -0.00245822, -0.02553131, -0.01187814,  0.00931064,\n",
       "         0.02155717, -0.00254465,  0.01078389, -0.00549392, -0.01727544,\n",
       "         0.0186234 ,  0.03632547,  0.01343713,  0.01364881,  0.04563884,\n",
       "        -0.00915235,  0.0330271 , -0.0265367 , -0.0032098 , -0.02369928,\n",
       "        -0.01169372, -0.01652741,  0.02770856, -0.02559214, -0.01475341,\n",
       "         0.00357982, -0.04196308, -0.01819992, -0.01842262, -0.02422645,\n",
       "        -0.00938237, -0.01431383, -0.00679239, -0.03442838, -0.02473918,\n",
       "        -0.02247241, -0.01454865,  0.02622526,  0.02347184, -0.02071853,\n",
       "         0.0089233 , -0.01624222,  0.00661183, -0.00098221, -0.01676283,\n",
       "        -0.0054478 , -0.02249974,  0.01171841,  0.00955925, -0.00167512,\n",
       "        -0.02783501,  0.01107043,  0.02394886,  0.03313209,  0.00235466,\n",
       "        -0.03924889, -0.02258845, -0.0069598 ,  0.03880407, -0.01459497,\n",
       "         0.02000621, -0.00838845, -0.01807554,  0.01313141,  0.01712291,\n",
       "         0.00334814, -0.01508039,  0.00287399, -0.01757093, -0.00322355,\n",
       "        -0.01730556, -0.01243155,  0.03152015, -0.0160392 , -0.03365926,\n",
       "         0.02075344,  0.02697447, -0.00107538, -0.03029847,  0.02473879,\n",
       "        -0.02615349, -0.01764252, -0.01839934, -0.02905711,  0.02770172,\n",
       "        -0.0249308 ,  0.01206554,  0.02419563, -0.01414355, -0.02088649,\n",
       "        -0.06622672,  0.00765951, -0.02006498,  0.00296969,  0.03180226,\n",
       "         0.00646522, -0.02962018,  0.03318805, -0.02001883, -0.01006054,\n",
       "         0.01954369, -0.01955968, -0.01122435, -0.02269698,  0.00704385,\n",
       "        -0.03239206,  0.01119071, -0.01716616,  0.02867696, -0.0362783 ,\n",
       "         0.00880424,  0.00876637, -0.02465566, -0.01418995,  0.01371426,\n",
       "         0.00824906, -0.0161934 , -0.01160529, -0.02571016,  0.01092961,\n",
       "        -0.01934932, -0.0178471 , -0.01041624], dtype=float32),\n",
       " array([[ 2.18560591e-01],\n",
       "        [ 7.60649145e-02],\n",
       "        [ 3.15285171e-03],\n",
       "        [ 2.43353003e-04],\n",
       "        [-8.11738595e-02],\n",
       "        [ 3.86712849e-02],\n",
       "        [ 2.13333309e-01],\n",
       "        [ 7.04796091e-02],\n",
       "        [ 1.54954612e-01],\n",
       "        [ 2.04027101e-01],\n",
       "        [ 8.87190104e-02],\n",
       "        [ 2.08835229e-02],\n",
       "        [ 4.41169068e-02],\n",
       "        [ 1.01200163e-01],\n",
       "        [-8.61072391e-02],\n",
       "        [-2.37993822e-01],\n",
       "        [ 2.24633142e-01],\n",
       "        [-1.09727144e-01],\n",
       "        [ 8.73284116e-02],\n",
       "        [ 1.26296163e-01],\n",
       "        [-1.43400922e-01],\n",
       "        [ 1.74893394e-01],\n",
       "        [-1.19843662e-01],\n",
       "        [-1.08590974e-02],\n",
       "        [ 5.80258779e-02],\n",
       "        [-2.34136373e-01],\n",
       "        [ 8.27187002e-02],\n",
       "        [ 2.18853027e-01],\n",
       "        [ 5.20156696e-02],\n",
       "        [ 9.76046324e-02],\n",
       "        [-2.58682519e-01],\n",
       "        [ 1.62644591e-02],\n",
       "        [-2.17160404e-01],\n",
       "        [-1.53165869e-02],\n",
       "        [ 3.19907628e-03],\n",
       "        [-1.19034024e-02],\n",
       "        [-1.81024820e-01],\n",
       "        [-2.42963374e-01],\n",
       "        [ 2.67584741e-01],\n",
       "        [ 7.31736496e-02],\n",
       "        [-1.87961459e-01],\n",
       "        [ 6.24271519e-02],\n",
       "        [ 1.94603577e-01],\n",
       "        [ 2.00115517e-01],\n",
       "        [-2.36783952e-01],\n",
       "        [ 1.14072546e-01],\n",
       "        [-2.27352470e-01],\n",
       "        [-2.41302159e-02],\n",
       "        [-3.80751252e-01],\n",
       "        [-8.23513120e-02],\n",
       "        [-2.27060258e-01],\n",
       "        [-2.53756523e-01],\n",
       "        [ 1.49226934e-01],\n",
       "        [ 4.48544845e-02],\n",
       "        [-2.09488302e-01],\n",
       "        [-9.78497509e-03],\n",
       "        [-2.35587776e-01],\n",
       "        [ 1.72272652e-01],\n",
       "        [ 1.71478078e-01],\n",
       "        [-1.00089209e-02],\n",
       "        [ 1.20639220e-01],\n",
       "        [-1.71695739e-01],\n",
       "        [-2.44976863e-01],\n",
       "        [ 1.50187612e-01],\n",
       "        [-1.43087089e-01],\n",
       "        [-4.07571793e-01],\n",
       "        [-8.66423473e-02],\n",
       "        [-1.70184821e-01],\n",
       "        [-4.20252621e-01],\n",
       "        [ 2.39120409e-01],\n",
       "        [-7.01447576e-02],\n",
       "        [-1.50415123e-01],\n",
       "        [-1.96338922e-01],\n",
       "        [ 3.44156176e-02],\n",
       "        [-2.41613314e-01],\n",
       "        [-1.66885450e-01],\n",
       "        [ 5.29362895e-02],\n",
       "        [ 1.76253825e-01],\n",
       "        [-4.27315980e-02],\n",
       "        [ 9.69798304e-04],\n",
       "        [ 1.58003718e-01],\n",
       "        [ 2.02369735e-01],\n",
       "        [ 2.06894636e-01],\n",
       "        [-6.78956211e-02],\n",
       "        [ 1.15641363e-01],\n",
       "        [-1.87294200e-01],\n",
       "        [-1.11014590e-01],\n",
       "        [-1.19153768e-01],\n",
       "        [ 1.80416405e-01],\n",
       "        [ 9.37861875e-02],\n",
       "        [-2.02841774e-01],\n",
       "        [-7.62156695e-02],\n",
       "        [-2.70082653e-01],\n",
       "        [-2.32247218e-01],\n",
       "        [-1.01236567e-01],\n",
       "        [ 2.36984953e-01],\n",
       "        [-2.31285959e-01],\n",
       "        [-1.97931454e-01],\n",
       "        [ 1.70065939e-01],\n",
       "        [ 2.77562123e-02],\n",
       "        [ 1.84546843e-01],\n",
       "        [ 2.26325095e-02],\n",
       "        [ 1.31400242e-01],\n",
       "        [ 2.73748301e-02],\n",
       "        [ 7.37536475e-02],\n",
       "        [ 6.51194155e-02],\n",
       "        [ 2.84342319e-01],\n",
       "        [-1.65424317e-01],\n",
       "        [-8.26271996e-02],\n",
       "        [ 1.10509463e-01],\n",
       "        [ 7.43573681e-02],\n",
       "        [-1.01341195e-01],\n",
       "        [-2.04078197e-01],\n",
       "        [ 1.16996042e-01],\n",
       "        [ 6.55963421e-02],\n",
       "        [ 1.43779755e-01],\n",
       "        [-3.95448208e-01],\n",
       "        [-1.71783894e-01],\n",
       "        [-2.20164314e-01],\n",
       "        [ 2.16659214e-02],\n",
       "        [-1.92933828e-01],\n",
       "        [-2.44094253e-01],\n",
       "        [-1.32327959e-01],\n",
       "        [ 1.33436278e-01],\n",
       "        [-7.16008767e-02],\n",
       "        [-1.98512927e-01],\n",
       "        [-7.22453237e-01],\n",
       "        [ 7.54537992e-04]], dtype=float32),\n",
       " array([0.03534203], dtype=float32)]"
      ]
     },
     "execution_count": 7,
     "metadata": {},
     "output_type": "execute_result"
    }
   ],
   "source": [
    "model.get_weights()"
   ]
  },
  {
   "cell_type": "code",
   "execution_count": 8,
   "id": "fc2329a4",
   "metadata": {},
   "outputs": [],
   "source": [
    "def decode_review(text):\n",
    "    return ' '.join([reverse_word_index.get(i - 3, '?') for i in text])\n",
    "\n",
    "\n",
    "def preprocess_text(text):\n",
    "    # Encode the text using the word index\n",
    "    \n",
    "    encoded = [word_index.get(word, 2)+3 for word in text.lower().split()]\n",
    "    # Pad the sequence to max length 500\n",
    "    padded = sequence.pad_sequences([encoded], maxlen=500, padding='pre')\n",
    "    return padded"
   ]
  },
  {
   "cell_type": "code",
   "execution_count": 9,
   "id": "2ed86342",
   "metadata": {},
   "outputs": [],
   "source": [
    "### prediction function\n",
    "\n",
    "def predict_sentiment(review):\n",
    "    preprocessed_input=preprocess_text(review)\n",
    "    prediction =model.predict(preprocessed_input)\n",
    "    sentiment ='positive ' if prediction[0][0] >0.5 else \"Negative\"\n",
    "    return sentiment,prediction[0][0]"
   ]
  },
  {
   "cell_type": "code",
   "execution_count": 10,
   "id": "aa04406b",
   "metadata": {},
   "outputs": [
    {
     "name": "stdout",
     "output_type": "stream",
     "text": [
      "\u001b[1m1/1\u001b[0m \u001b[32m━━━━━━━━━━━━━━━━━━━━\u001b[0m\u001b[37m\u001b[0m \u001b[1m0s\u001b[0m 136ms/step\n",
      "Review: The movie was fantastic, the acting was great, and the plot was thrilling.\n",
      "Sentiment: positive \n",
      "Prediction score: 0.828\n"
     ]
    }
   ],
   "source": [
    "example_review = \"The movie was fantastic, the acting was great, and the plot was thrilling.\"\n",
    "sentiment, score = predict_sentiment(example_review)\n",
    "print(f\"Review: {example_review}\\nSentiment: {sentiment}\\nPrediction score: {score:.3f}\")"
   ]
  },
  {
   "cell_type": "code",
   "execution_count": null,
   "id": "782e7e45",
   "metadata": {},
   "outputs": [],
   "source": []
  }
 ],
 "metadata": {
  "kernelspec": {
   "display_name": "base",
   "language": "python",
   "name": "python3"
  },
  "language_info": {
   "codemirror_mode": {
    "name": "ipython",
    "version": 3
   },
   "file_extension": ".py",
   "mimetype": "text/x-python",
   "name": "python",
   "nbconvert_exporter": "python",
   "pygments_lexer": "ipython3",
   "version": "3.13.5"
  }
 },
 "nbformat": 4,
 "nbformat_minor": 5
}
